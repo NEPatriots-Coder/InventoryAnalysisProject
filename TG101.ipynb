{
 "cells": [
  {
   "cell_type": "code",
   "execution_count": 1,
   "id": "1cb49b1c",
   "metadata": {},
   "outputs": [],
   "source": [
    "import pandas as pd \n",
    "import numpy as np\n",
    "import openpyxl\n",
    "import os"
   ]
  },
  {
   "cell_type": "code",
   "execution_count": 4,
   "id": "2913e407",
   "metadata": {},
   "outputs": [
    {
     "data": {
      "application/vnd.microsoft.datawrangler.viewer.v0+json": {
       "columns": [
        {
         "name": "index",
         "rawType": "int64",
         "type": "integer"
        },
        {
         "name": "PART",
         "rawType": "object",
         "type": "string"
        },
        {
         "name": "CURRENT_USAGE",
         "rawType": "float64",
         "type": "float"
        },
        {
         "name": "PRIOR_YEAR_USAGE",
         "rawType": "float64",
         "type": "float"
        },
        {
         "name": "TOTAL_ON_HAND",
         "rawType": "float64",
         "type": "float"
        },
        {
         "name": "PLANNED_REQ",
         "rawType": "float64",
         "type": "float"
        },
        {
         "name": "PROD_REQUIRED",
         "rawType": "float64",
         "type": "float"
        },
        {
         "name": "SAFETY_STOCK",
         "rawType": "int64",
         "type": "integer"
        },
        {
         "name": "PLANNED_ORDERS",
         "rawType": "int64",
         "type": "integer"
        },
        {
         "name": "COST",
         "rawType": "float64",
         "type": "float"
        },
        {
         "name": "YTD_WEEKLY_USAGE",
         "rawType": "float64",
         "type": "float"
        },
        {
         "name": "FORECASTED_YEARLY_USAGE",
         "rawType": "float64",
         "type": "float"
        },
        {
         "name": "Frequency",
         "rawType": "int64",
         "type": "integer"
        },
        {
         "name": "Vendor Number",
         "rawType": "object",
         "type": "string"
        },
        {
         "name": "Lead_Time",
         "rawType": "float64",
         "type": "float"
        },
        {
         "name": "STD_DEV_LEAD_TIME",
         "rawType": "float64",
         "type": "float"
        },
        {
         "name": "Order Qty",
         "rawType": "float64",
         "type": "float"
        }
       ],
       "ref": "1c5d4abf-51c9-4076-8fcb-c326dc67d692",
       "rows": [
        [
         "0",
         "TG016L122",
         "538.0",
         "1400.0",
         "49.0",
         "35.0",
         "26.0",
         "250",
         "250",
         "3.031",
         "20.69",
         "1076.0",
         "6",
         "BIO001",
         "19.0",
         "20.01171866849146",
         "250.0"
        ],
        [
         "1",
         "TG016L146",
         "959.01",
         "2079.0",
         "-156.0",
         "34.0",
         "64.0",
         "250",
         "500",
         "3.6271",
         "36.89",
         "1918.02",
         "6",
         "BIO001",
         "19.0",
         "20.03224241707486",
         "250.0"
        ],
        [
         "2",
         "TG016L170",
         "1109.0",
         "3011.0",
         "-20.0",
         "136.0",
         "68.0",
         "250",
         "250",
         "4.2231",
         "42.65",
         "2218.0",
         "6",
         "BIO001",
         "19.0",
         "20.05282488080886",
         "250.0"
        ],
        [
         "3",
         "TG016L194",
         "1065.0",
         "2512.0",
         "97.0",
         "34.0",
         "71.0",
         "250",
         "250",
         "4.8192",
         "40.96",
         "2130.0",
         "6",
         "BIO001",
         "19.0",
         "20.07346630170282",
         "250.0"
        ],
        [
         "4",
         "TG016L242",
         "1004.0",
         "2372.0",
         "64.0",
         "67.0",
         "81.0",
         "300",
         "300",
         "6.0113",
         "38.62",
         "2008.0",
         "7",
         "BIO001",
         "19.0",
         "20.09416692267321",
         "300.0"
        ]
       ],
       "shape": {
        "columns": 16,
        "rows": 5
       }
      },
      "text/html": [
       "<div>\n",
       "<style scoped>\n",
       "    .dataframe tbody tr th:only-of-type {\n",
       "        vertical-align: middle;\n",
       "    }\n",
       "\n",
       "    .dataframe tbody tr th {\n",
       "        vertical-align: top;\n",
       "    }\n",
       "\n",
       "    .dataframe thead th {\n",
       "        text-align: right;\n",
       "    }\n",
       "</style>\n",
       "<table border=\"1\" class=\"dataframe\">\n",
       "  <thead>\n",
       "    <tr style=\"text-align: right;\">\n",
       "      <th></th>\n",
       "      <th>PART</th>\n",
       "      <th>CURRENT_USAGE</th>\n",
       "      <th>PRIOR_YEAR_USAGE</th>\n",
       "      <th>TOTAL_ON_HAND</th>\n",
       "      <th>PLANNED_REQ</th>\n",
       "      <th>PROD_REQUIRED</th>\n",
       "      <th>SAFETY_STOCK</th>\n",
       "      <th>PLANNED_ORDERS</th>\n",
       "      <th>COST</th>\n",
       "      <th>YTD_WEEKLY_USAGE</th>\n",
       "      <th>FORECASTED_YEARLY_USAGE</th>\n",
       "      <th>Frequency</th>\n",
       "      <th>Vendor Number</th>\n",
       "      <th>Lead_Time</th>\n",
       "      <th>STD_DEV_LEAD_TIME</th>\n",
       "      <th>Order Qty</th>\n",
       "    </tr>\n",
       "  </thead>\n",
       "  <tbody>\n",
       "    <tr>\n",
       "      <th>0</th>\n",
       "      <td>TG016L122</td>\n",
       "      <td>538.00</td>\n",
       "      <td>1400.0</td>\n",
       "      <td>49.0</td>\n",
       "      <td>35.0</td>\n",
       "      <td>26.0</td>\n",
       "      <td>250</td>\n",
       "      <td>250</td>\n",
       "      <td>3.0310</td>\n",
       "      <td>20.69</td>\n",
       "      <td>1076.00</td>\n",
       "      <td>6</td>\n",
       "      <td>BIO001</td>\n",
       "      <td>19.0</td>\n",
       "      <td>20.011719</td>\n",
       "      <td>250.0</td>\n",
       "    </tr>\n",
       "    <tr>\n",
       "      <th>1</th>\n",
       "      <td>TG016L146</td>\n",
       "      <td>959.01</td>\n",
       "      <td>2079.0</td>\n",
       "      <td>-156.0</td>\n",
       "      <td>34.0</td>\n",
       "      <td>64.0</td>\n",
       "      <td>250</td>\n",
       "      <td>500</td>\n",
       "      <td>3.6271</td>\n",
       "      <td>36.89</td>\n",
       "      <td>1918.02</td>\n",
       "      <td>6</td>\n",
       "      <td>BIO001</td>\n",
       "      <td>19.0</td>\n",
       "      <td>20.032242</td>\n",
       "      <td>250.0</td>\n",
       "    </tr>\n",
       "    <tr>\n",
       "      <th>2</th>\n",
       "      <td>TG016L170</td>\n",
       "      <td>1109.00</td>\n",
       "      <td>3011.0</td>\n",
       "      <td>-20.0</td>\n",
       "      <td>136.0</td>\n",
       "      <td>68.0</td>\n",
       "      <td>250</td>\n",
       "      <td>250</td>\n",
       "      <td>4.2231</td>\n",
       "      <td>42.65</td>\n",
       "      <td>2218.00</td>\n",
       "      <td>6</td>\n",
       "      <td>BIO001</td>\n",
       "      <td>19.0</td>\n",
       "      <td>20.052825</td>\n",
       "      <td>250.0</td>\n",
       "    </tr>\n",
       "    <tr>\n",
       "      <th>3</th>\n",
       "      <td>TG016L194</td>\n",
       "      <td>1065.00</td>\n",
       "      <td>2512.0</td>\n",
       "      <td>97.0</td>\n",
       "      <td>34.0</td>\n",
       "      <td>71.0</td>\n",
       "      <td>250</td>\n",
       "      <td>250</td>\n",
       "      <td>4.8192</td>\n",
       "      <td>40.96</td>\n",
       "      <td>2130.00</td>\n",
       "      <td>6</td>\n",
       "      <td>BIO001</td>\n",
       "      <td>19.0</td>\n",
       "      <td>20.073466</td>\n",
       "      <td>250.0</td>\n",
       "    </tr>\n",
       "    <tr>\n",
       "      <th>4</th>\n",
       "      <td>TG016L242</td>\n",
       "      <td>1004.00</td>\n",
       "      <td>2372.0</td>\n",
       "      <td>64.0</td>\n",
       "      <td>67.0</td>\n",
       "      <td>81.0</td>\n",
       "      <td>300</td>\n",
       "      <td>300</td>\n",
       "      <td>6.0113</td>\n",
       "      <td>38.62</td>\n",
       "      <td>2008.00</td>\n",
       "      <td>7</td>\n",
       "      <td>BIO001</td>\n",
       "      <td>19.0</td>\n",
       "      <td>20.094167</td>\n",
       "      <td>300.0</td>\n",
       "    </tr>\n",
       "  </tbody>\n",
       "</table>\n",
       "</div>"
      ],
      "text/plain": [
       "        PART  CURRENT_USAGE  PRIOR_YEAR_USAGE  TOTAL_ON_HAND  PLANNED_REQ  \\\n",
       "0  TG016L122         538.00            1400.0           49.0         35.0   \n",
       "1  TG016L146         959.01            2079.0         -156.0         34.0   \n",
       "2  TG016L170        1109.00            3011.0          -20.0        136.0   \n",
       "3  TG016L194        1065.00            2512.0           97.0         34.0   \n",
       "4  TG016L242        1004.00            2372.0           64.0         67.0   \n",
       "\n",
       "   PROD_REQUIRED  SAFETY_STOCK  PLANNED_ORDERS    COST  YTD_WEEKLY_USAGE  \\\n",
       "0           26.0           250             250  3.0310             20.69   \n",
       "1           64.0           250             500  3.6271             36.89   \n",
       "2           68.0           250             250  4.2231             42.65   \n",
       "3           71.0           250             250  4.8192             40.96   \n",
       "4           81.0           300             300  6.0113             38.62   \n",
       "\n",
       "   FORECASTED_YEARLY_USAGE  Frequency Vendor Number  Lead_Time  \\\n",
       "0                  1076.00          6        BIO001       19.0   \n",
       "1                  1918.02          6        BIO001       19.0   \n",
       "2                  2218.00          6        BIO001       19.0   \n",
       "3                  2130.00          6        BIO001       19.0   \n",
       "4                  2008.00          7        BIO001       19.0   \n",
       "\n",
       "   STD_DEV_LEAD_TIME  Order Qty  \n",
       "0          20.011719      250.0  \n",
       "1          20.032242      250.0  \n",
       "2          20.052825      250.0  \n",
       "3          20.073466      250.0  \n",
       "4          20.094167      300.0  "
      ]
     },
     "execution_count": 4,
     "metadata": {},
     "output_type": "execute_result"
    }
   ],
   "source": [
    "df= pd.read_excel('TG101_INVENTORY.xlsx')\n",
    "df.head()"
   ]
  },
  {
   "cell_type": "code",
   "execution_count": 5,
   "metadata": {},
   "outputs": [],
   "source": [
    "df['Lead_Time'] = df['Lead_Time'].fillna(25)\n",
    "df['STD_DEV_LEAD_TIME'] = df['STD_DEV_LEAD_TIME'].fillna(19)\n",
    "df['Frequency'] = df['Frequency'].fillna(0)\n",
    "df['Order Qty'] = df['Order Qty'].fillna(0)\n",
    "df['Daily_Usage'] = df['YTD_WEEKLY_USAGE'] / 7"
   ]
  },
  {
   "cell_type": "code",
   "execution_count": 6,
   "id": "816c8189",
   "metadata": {},
   "outputs": [
    {
     "data": {
      "application/vnd.microsoft.datawrangler.viewer.v0+json": {
       "columns": [
        {
         "name": "index",
         "rawType": "int64",
         "type": "integer"
        },
        {
         "name": "YTD_WEEKLY_USAGE",
         "rawType": "float64",
         "type": "float"
        }
       ],
       "ref": "bf028dcc-3256-4a82-a881-9492d4e23313",
       "rows": [
        [
         "0",
         "20.69"
        ],
        [
         "1",
         "36.89"
        ],
        [
         "2",
         "42.65"
        ],
        [
         "3",
         "40.96"
        ],
        [
         "4",
         "38.62"
        ],
        [
         "5",
         "27.88"
        ],
        [
         "6",
         "336.85"
        ],
        [
         "7",
         "341.08"
        ],
        [
         "8",
         "120.19"
        ],
        [
         "9",
         "176.35"
        ],
        [
         "10",
         "162.19"
        ],
        [
         "11",
         "219.27"
        ],
        [
         "12",
         "214.46"
        ],
        [
         "13",
         "92.45"
        ],
        [
         "14",
         "106.62"
        ],
        [
         "15",
         "43.81"
        ],
        [
         "16",
         "75.08"
        ],
        [
         "17",
         "41.35"
        ],
        [
         "18",
         "336.81"
        ],
        [
         "19",
         "337.12"
        ],
        [
         "20",
         "104.08"
        ],
        [
         "21",
         "164.23"
        ],
        [
         "22",
         "166.5"
        ],
        [
         "23",
         "225.23"
        ],
        [
         "24",
         "221.54"
        ],
        [
         "25",
         "79.07"
        ],
        [
         "26",
         "106.62"
        ],
        [
         "27",
         "43.81"
        ],
        [
         "28",
         "75.08"
        ],
        [
         "29",
         "55.12"
        ],
        [
         "30",
         "0.15"
        ],
        [
         "31",
         "0.77"
        ],
        [
         "32",
         "0.85"
        ],
        [
         "33",
         "0.46"
        ],
        [
         "34",
         "832.15"
        ],
        [
         "35",
         "2957.35"
        ],
        [
         "36",
         "27.88"
        ],
        [
         "37",
         "43.04"
        ],
        [
         "38",
         "33.38"
        ],
        [
         "39",
         "48.46"
        ],
        [
         "40",
         "32.62"
        ],
        [
         "41",
         "27.19"
        ],
        [
         "42",
         "21.38"
        ],
        [
         "43",
         "350.54"
        ],
        [
         "44",
         "967.57"
        ],
        [
         "45",
         "13005.05"
        ],
        [
         "46",
         "10094.05"
        ],
        [
         "47",
         "28117.08"
        ],
        [
         "48",
         "8094.41"
        ],
        [
         "49",
         "19769.74"
        ]
       ],
       "shape": {
        "columns": 1,
        "rows": 71
       }
      },
      "text/plain": [
       "0     20.69\n",
       "1     36.89\n",
       "2     42.65\n",
       "3     40.96\n",
       "4     38.62\n",
       "      ...  \n",
       "66    45.27\n",
       "67    14.19\n",
       "68    27.12\n",
       "69     0.19\n",
       "70     0.08\n",
       "Name: YTD_WEEKLY_USAGE, Length: 71, dtype: float64"
      ]
     },
     "execution_count": 6,
     "metadata": {},
     "output_type": "execute_result"
    }
   ],
   "source": [
    "df['YTD_WEEKLY_USAGE'] "
   ]
  },
  {
   "cell_type": "markdown",
   "id": "668949d2",
   "metadata": {},
   "source": [
    "## Function to Calculate Weighted Annual Demand"
   ]
  },
  {
   "cell_type": "code",
   "execution_count": 7,
   "id": "f19c88a7",
   "metadata": {},
   "outputs": [],
   "source": [
    "def calculate_annual_demand(row):\n",
    "    current = row['CURRENT_USAGE'] or 0\n",
    "    prior = row['PRIOR_YEAR_USAGE'] or 0\n",
    "    forecast = row['FORECASTED_YEARLY_USAGE'] or 0\n",
    "    frequency = row['Frequency'] or 0\n",
    "    order_qty = row['Order Qty'] or 0\n",
    "    \n",
    "    if current > 0 and prior > 0:\n",
    "        # High confidence: trend-adjusted weighted average\n",
    "        trend = max(min(current / prior, 1.5), 0.5)  # Cap extreme trends\n",
    "        demand = (current * 0.7) + (prior * trend * 0.3)\n",
    "        confidence = 'HIGH'\n",
    "    elif current > 0:\n",
    "        # Medium confidence: current with growth\n",
    "        demand = current * 1.05\n",
    "        confidence = 'MEDIUM'\n",
    "    elif frequency > 0 and order_qty > 0:\n",
    "        # Low confidence: frequency-based\n",
    "        demand = frequency * order_qty\n",
    "        confidence = 'LOW'\n",
    "    else:\n",
    "        # Very low confidence: use forecast\n",
    "        demand = forecast\n",
    "        confidence = 'VERY_LOW'\n",
    "    \n",
    "    return demand, confidence"
   ]
  },
  {
   "cell_type": "markdown",
   "id": "17fb1628",
   "metadata": {},
   "source": [
    "## Function to Calculate Safety Stock\n"
   ]
  },
  {
   "cell_type": "code",
   "execution_count": 8,
   "metadata": {},
   "outputs": [],
   "source": [
    "def calculate_safety_stock(row, service_level=0.95):\n",
    "    daily_usage = row['Daily_Usage']\n",
    "    lead_time = row['Lead_Time']\n",
    "    lead_time_std = row['STD_DEV_LEAD_TIME']\n",
    "    current = row['CURRENT_USAGE'] or 0\n",
    "    prior = row['PRIOR_YEAR_USAGE'] or 0\n",
    "    \n",
    "    # Service level z-score (95% = 1.65, 99% = 2.33)\n",
    "    z_score = 1.65 if service_level == 0.95 else 2.33\n",
    "    \n",
    "    # Calculate demand coefficient of variation\n",
    "    if current > 0 and prior > 0:\n",
    "        demand_cv = abs(current - prior) / ((current + prior) / 2)\n",
    "    else:\n",
    "        demand_cv = 0.3  # Default 30% CV\n",
    "    \n",
    "    # Lead time variability buffer\n",
    "    lt_variability = z_score * daily_usage * lead_time_std\n",
    "    \n",
    "    # Demand variability buffer\n",
    "    demand_variability = z_score * daily_usage * demand_cv * np.sqrt(lead_time)\n",
    "    \n",
    "    # Total safety stock (minimum of calculated or current safety stock)\n",
    "    calculated_safety = lt_variability + demand_variability\n",
    "    current_safety = row['SAFETY_STOCK'] or 0\n",
    "    \n",
    "    return max(calculated_safety, current_safety)"
   ]
  },
  {
   "cell_type": "markdown",
   "id": "a88a897b",
   "metadata": {},
   "source": [
    "## Function to Calculate EOQ"
   ]
  },
  {
   "cell_type": "code",
   "execution_count": 9,
   "metadata": {},
   "outputs": [],
   "source": [
    "def calculate_eoq(annual_demand, unit_cost, order_cost=50, holding_rate=0.25):\n",
    "    if annual_demand > 0 and unit_cost > 0:\n",
    "        eoq = np.sqrt((2 * annual_demand * order_cost) / (unit_cost * holding_rate))\n",
    "        return eoq\n",
    "    return 0\n"
   ]
  },
  {
   "cell_type": "markdown",
   "id": "751c0f6f",
   "metadata": {},
   "source": [
    "## Bring everything to the BBQ"
   ]
  },
  {
   "cell_type": "code",
   "execution_count": null,
   "metadata": {},
   "outputs": [
    {
     "name": "stdout",
     "output_type": "stream",
     "text": [
      "=== PROACTIVE ORDERING ANALYSIS SUMMARY ===\n",
      "\n",
      "Parts by Urgency:\n",
      "                PART  Order_Value\n",
      "Action_Urgency                   \n",
      "CRITICAL          15     22518.27\n",
      "OK                19     43078.66\n",
      "SOON              21     63299.60\n",
      "URGENT            16     36745.24\n",
      "\n",
      "Immediate ordering required:\n",
      "Parts: 31\n",
      "Total value: $59,263.51\n",
      "\n",
      "Top 10 ordering priorities:\n",
      " 1. URAISOLB     SOON     Order   9048 units ($  16,558)\n",
      " 2. 2004         SOON     Order  32583 units ($   7,175)\n",
      " 3. TG2006       URGENT   Order   6892 units ($   4,941)\n",
      " 4. UTGDTAPE     SOON     Order  77761 units ($   3,966)\n",
      " 5. TG084L192    URGENT   Order    740 units ($   3,377)\n",
      " 6. TG084L120    CRITICAL Order   1177 units ($   3,355)\n",
      " 7. TG084L170    SOON     Order    804 units ($   3,245)\n",
      " 8. TG084L108    URGENT   Order   1233 units ($   3,164)\n",
      " 9. 2008TG1000WA URGENT   Order    270 units ($   2,938)\n",
      "10. 2008TG1600WA URGENT   Order    170 units ($   2,936)\n",
      "\n",
      "Results written to 'TG101_INVENTORY_ANALYSIS.xlsx' file\n",
      "\n",
      "Total parts analyzed: 71\n"
     ]
    },
    {
     "ename": "",
     "evalue": "",
     "output_type": "error",
     "traceback": [
      "\u001b[1;31mThe Kernel crashed while executing code in the current cell or a previous cell. \n",
      "\u001b[1;31mPlease review the code in the cell(s) to identify a possible cause of the failure. \n",
      "\u001b[1;31mClick <a href='https://aka.ms/vscodeJupyterKernelCrash'>here</a> for more info. \n",
      "\u001b[1;31mView Jupyter <a href='command:jupyter.viewOutput'>log</a> for further details."
     ]
    }
   ],
   "source": [
    "results = []\n",
    "\n",
    "for index, row in df.iterrows():\n",
    "    # Calculate annual demand\n",
    "    annual_demand, confidence = calculate_annual_demand(row)\n",
    "    \n",
    "    # Calculate lead time demand\n",
    "    lead_time_demand = row['Daily_Usage'] * row['Lead_Time']\n",
    "    \n",
    "    # Calculate safety stock\n",
    "    safety_stock = calculate_safety_stock(row)\n",
    "    \n",
    "    # Calculate reorder point\n",
    "    reorder_point = lead_time_demand + safety_stock\n",
    "    \n",
    "    # Calculate EOQ\n",
    "    eoq = calculate_eoq(annual_demand, row['COST'])\n",
    "    if eoq == 0 and row['Order Qty'] > 0:\n",
    "        eoq = row['Order Qty']  # Use existing if EOQ calc fails\n",
    "    \n",
    "    # Determine action urgency\n",
    "    current_stock = row['TOTAL_ON_HAND'] or 0\n",
    "    days_of_stock = row['Daily_Usage'] > 0 and current_stock / row['Daily_Usage'] or 999\n",
    "    \n",
    "    if current_stock < 0:\n",
    "        urgency = 'CRITICAL'\n",
    "        message = 'STOCKOUT - Expedite order'\n",
    "    elif current_stock < lead_time_demand:\n",
    "        urgency = 'URGENT'\n",
    "        message = 'Below lead time demand'\n",
    "    elif current_stock < reorder_point:\n",
    "        urgency = 'SOON'\n",
    "        message = 'Below reorder point'\n",
    "    elif days_of_stock < row['Lead_Time'] * 1.5:\n",
    "        urgency = 'MONITOR'\n",
    "        message = 'Approaching reorder point'\n",
    "    else:\n",
    "        urgency = 'OK'\n",
    "        message = 'Adequate inventory'\n",
    "    \n",
    "    # Calculate order value\n",
    "    order_value = eoq * row['COST']\n",
    "    \n",
    "    # Store results\n",
    "    results.append({\n",
    "        'PART': row['PART'],\n",
    "        'Vendor': row['Vendor Number'],\n",
    "        'Annual_Demand': round(annual_demand, 2),\n",
    "        'Confidence': confidence,\n",
    "        'Lead_Time_Demand': round(lead_time_demand, 2),\n",
    "        'Safety_Stock': round(safety_stock, 2),\n",
    "        'Reorder_Point': round(reorder_point, 2),\n",
    "        'EOQ': round(eoq, 0),\n",
    "        'Current_Stock': current_stock,\n",
    "        'Days_of_Stock': round(days_of_stock, 1),\n",
    "        'Action_Urgency': urgency,\n",
    "        'Action_Message': message,\n",
    "        'Order_Value': round(order_value, 2),\n",
    "        'Annual_Value': round(annual_demand * row['COST'], 2)\n",
    "    })\n",
    "\n",
    "# Create results DataFrame\n",
    "results_df = pd.DataFrame(results)\n",
    "\n",
    "# Summary statistics\n",
    "print(\"=== PROACTIVE ORDERING ANALYSIS SUMMARY ===\\n\")\n",
    "\n",
    "urgency_summary = results_df.groupby('Action_Urgency').agg({\n",
    "    'PART': 'count',\n",
    "    'Order_Value': 'sum'\n",
    "}).round(2)\n",
    "\n",
    "print(\"Parts by Urgency:\")\n",
    "print(urgency_summary)\n",
    "\n",
    "# Immediate ordering needs\n",
    "immediate_orders = results_df[results_df['Action_Urgency'].isin(['CRITICAL', 'URGENT'])]\n",
    "total_immediate_value = immediate_orders['Order_Value'].sum()\n",
    "\n",
    "print(f\"\\nImmediate ordering required:\")\n",
    "print(f\"Parts: {len(immediate_orders)}\")\n",
    "print(f\"Total value: ${total_immediate_value:,.2f}\")\n",
    "\n",
    "# Top priorities\n",
    "print(f\"\\nTop 10 ordering priorities:\")\n",
    "top_priorities = results_df[results_df['Action_Urgency'].isin(['CRITICAL', 'URGENT', 'SOON'])].nlargest(10, 'Order_Value')\n",
    "\n",
    "for i, (_, row) in enumerate(top_priorities.iterrows(), 1):\n",
    "    print(f\"{i:2d}. {str(row['PART']):12s} {str(row['Action_Urgency']):8s} Order {row['EOQ']:6.0f} units (${row['Order_Value']:8,.0f})\")\n",
    "\n",
    "# Write results back to Excel\n",
    "# This will create a new sheet with the analysis results\n",
    "try:\n",
    "    with pd.ExcelWriter('TG101_INVENTORY_ANALYSIS.xlsx', engine='openpyxl') as writer:\n",
    "        results_df.to_excel(writer, sheet_name='ProactiveOrderingAnalysis', index=False)\n",
    "    print(f\"\\nResults written to 'TG101_INVENTORY_ANALYSIS.xlsx' file\")\n",
    "except Exception as e:\n",
    "    print(f\"\\nError writing to Excel: {e}\")\n",
    "    print(\"Displaying results summary instead:\")\n",
    "    print(results_df.head(10))\n",
    "\n",
    "print(f\"\\nTotal parts analyzed: {len(results_df)}\")"
   ]
  },
  {
   "cell_type": "code",
   "execution_count": null,
   "metadata": {},
   "outputs": [],
   "source": []
  },
  {
   "cell_type": "code",
   "execution_count": null,
   "id": "1283a953",
   "metadata": {},
   "outputs": [],
   "source": []
  }
 ],
 "metadata": {
  "kernelspec": {
   "display_name": "ml-env",
   "language": "python",
   "name": "python3"
  },
  "language_info": {
   "codemirror_mode": {
    "name": "ipython",
    "version": 3
   },
   "file_extension": ".py",
   "mimetype": "text/x-python",
   "name": "python",
   "nbconvert_exporter": "python",
   "pygments_lexer": "ipython3",
   "version": "3.11.11"
  }
 },
 "nbformat": 4,
 "nbformat_minor": 5
}
